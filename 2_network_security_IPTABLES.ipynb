{
  "nbformat": 4,
  "nbformat_minor": 0,
  "metadata": {
    "colab": {
      "provenance": []
    },
    "kernelspec": {
      "name": "python3",
      "display_name": "Python 3"
    },
    "language_info": {
      "name": "python"
    }
  },
  "cells": [
    {
      "cell_type": "markdown",
      "source": [
        "### Practical Lab: Scanning ports and forging packets"
      ],
      "metadata": {
        "id": "wH-hustw-Qt1"
      }
    },
    {
      "cell_type": "code",
      "execution_count": null,
      "metadata": {
        "id": "2mkUn86r-Mk3"
      },
      "outputs": [],
      "source": [
        "# Using nmap to determine another machine's OS\n",
        "# on target: ifconfig gives us the target's IP address\n",
        "# on machine: -O option to obtain OS, -sV version analysis\n",
        "nmap -O 192.168.1.2"
      ]
    },
    {
      "cell_type": "code",
      "source": [
        "# Scanning ports:\n",
        "# TCP with option -sS\n",
        "nmap -sS 192.168.1.2"
      ],
      "metadata": {
        "id": "ZeS4DE-E-keM"
      },
      "execution_count": null,
      "outputs": []
    },
    {
      "cell_type": "markdown",
      "source": [
        "21 tcp ftp  \n",
        "22 tcp ssh  \n",
        "53 tcp domain  \n",
        "80 tcp http  \n",
        "111 tcp rpcbind  \n",
        "389 tcp ldap  \n",
        "2049 tcp nfs"
      ],
      "metadata": {
        "id": "Lag6t07n_NFU"
      }
    },
    {
      "cell_type": "code",
      "source": [
        "# UDP scan: option -sU\n",
        "nmap -sU 192.168.1.2"
      ],
      "metadata": {
        "id": "4o4r1bEV_ZTs"
      },
      "execution_count": null,
      "outputs": []
    },
    {
      "cell_type": "markdown",
      "source": [
        "53 domain  \n",
        "111 domain  \n",
        "500 rpcbind  \n",
        "1701 L2TP"
      ],
      "metadata": {
        "id": "2nKCTwKY_kDe"
      }
    },
    {
      "cell_type": "code",
      "source": [
        "# Other scan options:\n",
        "# -sN: null scan: sends TCP packets with no flags enabled\n",
        "# -sF: fin scan: sends TCP packets with only FIN flag enabled\n",
        "# -sX: Xmas scan: sends TCP packets with FIN, URG, PSH flags enabled\n",
        "\n",
        "# all of these scans return:\n",
        "# RST: closed port\n",
        "# nothing(silence): open port"
      ],
      "metadata": {
        "id": "VsL3Gmbu_lYi"
      },
      "execution_count": null,
      "outputs": []
    },
    {
      "cell_type": "markdown",
      "source": [
        "#### Creating a script to use iptables"
      ],
      "metadata": {
        "id": "q05n_YsPAXm-"
      }
    },
    {
      "cell_type": "code",
      "source": [
        "#!/bin/sh\n",
        "\n",
        "iptables -F # flushes: to empty the table\n",
        "\n",
        "# aiming at all packets going through our machine and having 192.168.1.2 as destination and on tcp port\n",
        "# we create a mask with all bits to 1 and compare it to the mask with the syn bit set to 1\n",
        "# we drop it if it fits our requirements\n",
        "iptables -A FORWARD -d 192.168.1.2 -p tcp --tcp-flags ALL SYN -j DROP\n",
        "\n",
        "# same but this time we compare our mask all with the mask having the FIN, PSH and URG bits set to 1\n",
        "iptables -A FORWARD -d 192.168.1.2 -p tcp --tcp-flags ALL, FIN,PSH,URG -j DROP"
      ],
      "metadata": {
        "id": "RuomUoX1_s2d"
      },
      "execution_count": null,
      "outputs": []
    },
    {
      "cell_type": "markdown",
      "source": [
        "Using scapy to find open ports using TCP SYN scans"
      ],
      "metadata": {
        "id": "GEVnP_N_BeLh"
      }
    },
    {
      "cell_type": "code",
      "source": [
        "from scapy.all import *\n",
        "\n",
        "ports = []\n",
        "\n",
        "for i in range(1, 500):\n",
        "  p = sr1(IP(dst=\"192.168.1.2\")/TCP(dport=i,flags=\"S\"))\n",
        "  if p[TCP].flags==\"SA\": # SYN-ACK flag meaning port is open\n",
        "    ports += [p[TCP].sport]\n",
        "\n",
        "print(\"Open ports\", str(ports))"
      ],
      "metadata": {
        "id": "jJl5EnZ8BWvp"
      },
      "execution_count": null,
      "outputs": []
    },
    {
      "cell_type": "code",
      "source": [
        "from scapy.all import *\n",
        "\n",
        "ports = []\n",
        "\n",
        "for i in range(1, 500):\n",
        "  p = sr1(IP(dst=\"192.168.1.2\")/TCP(dport=i,flags=\"FPU\"), timeout=1) # christmas scan\n",
        "  if not p: # no answer means open port (or filtered)\n",
        "    ports += [i]\n",
        "\n",
        "print(\"Open ports\", str(ports))"
      ],
      "metadata": {
        "id": "DbhnJozkCH37"
      },
      "execution_count": null,
      "outputs": []
    },
    {
      "cell_type": "markdown",
      "source": [
        "#### ARPspoof: cache poisonning\n",
        "Man in the middle attack"
      ],
      "metadata": {
        "id": "oZG8Gj6dChzz"
      }
    },
    {
      "cell_type": "code",
      "source": [
        "echo 1 > /proc/sys/net/ipv4/ip_forward\n",
        "sysctl -p\n",
        "\n",
        "# using ifconfig again to obtain the eth0 network interface and system IP address\n",
        "ifconfig\n",
        "\n",
        "# to find host's IP: displays the current ARP table\n",
        "arp -n\n",
        "\n",
        "# commands: sending fake ARP replies to the victim: <host_ip>\n",
        "# our machine has the network interface <interface>\n",
        "# we are pretending to be <system_ip>\n",
        "arpspoof -i <interface> -t <host_ip> <system_ip>\n",
        "\n",
        "# to save and view it:\n",
        "tcpdump -i <interface> -l > cap.txt"
      ],
      "metadata": {
        "id": "FBfcX_CpCrXR"
      },
      "execution_count": null,
      "outputs": []
    },
    {
      "cell_type": "markdown",
      "source": [
        "Using arpwatch"
      ],
      "metadata": {
        "id": "mqMOBrOVED00"
      }
    },
    {
      "cell_type": "code",
      "source": [
        "# enabling arpwatch\n",
        "/etc/init.d/arpwatch start\n",
        "\n",
        "# watching a certain interface\n",
        "arpwatch -i eth0\n",
        "\n",
        "# checking:\n",
        "# we should see that more than one interface is associated to a certain IP address\n",
        "# (the previously real one and the new fake one)\n",
        "cat /var/lib/arpwatch/arp.dat\n",
        "\n",
        "# to stop arpwatch\n",
        "/etc/init.d/arpwatch stop"
      ],
      "metadata": {
        "id": "NZ-FxI7jEFZf"
      },
      "execution_count": null,
      "outputs": []
    },
    {
      "cell_type": "markdown",
      "source": [
        "#### A user regurlaly connects to a certain machine (S) from another machine (D)\n",
        "Find the credentials"
      ],
      "metadata": {
        "id": "2IMudGS5ErDA"
      }
    },
    {
      "cell_type": "code",
      "source": [
        "# capturing logs:\n",
        "tcpdump -w captures.pcap\n",
        "\n",
        "# opening the file on wireshark\n",
        "# right click on telnet packet and \"following tcp stream\"\n",
        "# obtaining plaintext credentials"
      ],
      "metadata": {
        "id": "CxTGhdQ5E2B4"
      },
      "execution_count": null,
      "outputs": []
    },
    {
      "cell_type": "markdown",
      "source": [
        "Learning about rwwwshell:\n",
        "Someone tries to connect from S to O every two seconds to start a remote shell. Using wwww-shell to enable the attack, find the the process opening the backdoor on S\n",
        "\n",
        "Method:\n",
        "Here is the translation:\n",
        "\n",
        "- search with `netstat`: to see the connections\n",
        "- search with `pstree` who started it: we obtain a tree and we can see how a certain program is started\n",
        "- find the PID\n",
        "- find the parent PID: ps -edf |grep <PID>: gives a table with parent PID\n",
        "- find where the parent is launched and by whom\n",
        "- remove the launch line\n",
        "- kill the parent process: kill -9 <pid>\n",
        "- kill the child process\n",
        "- verify: netstat -taupn"
      ],
      "metadata": {
        "id": "iDRXHXyWFN7c"
      }
    },
    {
      "cell_type": "markdown",
      "source": [
        "### Keeping logs of iptables actions"
      ],
      "metadata": {
        "id": "eVc7SwzI2MlI"
      }
    },
    {
      "cell_type": "code",
      "source": [
        "# keeps log of all iptables actions\n",
        "iptables -A OUTPUT -j LOG\n",
        "iptables -A INPUT -j LOG\n",
        "iptables -A FORWARD -j LOG\n",
        "\n",
        "# keeping a log of only reject packets\n",
        "iptables -N LOG_DROP\n",
        "iptables -A LOG_DROP -j LOG --log-prefix '[IPTABLES DROP] : '\n",
        "iptables -A LOG_DROP -j DROP"
      ],
      "metadata": {
        "id": "7-NCMA172P7_"
      },
      "execution_count": null,
      "outputs": []
    }
  ]
}