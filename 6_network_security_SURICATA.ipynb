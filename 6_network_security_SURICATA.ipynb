{
  "nbformat": 4,
  "nbformat_minor": 0,
  "metadata": {
    "colab": {
      "provenance": []
    },
    "kernelspec": {
      "name": "python3",
      "display_name": "Python 3"
    },
    "language_info": {
      "name": "python"
    }
  },
  "cells": [
    {
      "cell_type": "markdown",
      "source": [
        "### Intrusion detection using SURICATA\n",
        "\n"
      ],
      "metadata": {
        "id": "JKCirp90KHOx"
      }
    },
    {
      "cell_type": "code",
      "execution_count": null,
      "metadata": {
        "id": "yQrR6x3-KCvG"
      },
      "outputs": [],
      "source": [
        "# on the gateway: creating an intrusion prevention system\n",
        "mkdir /etc/systemd/system/suricata.service.d"
      ]
    },
    {
      "cell_type": "markdown",
      "source": [
        "-D option: stars suricata in daemon mode: executes in the background  \n",
        "-q: suricata has to handle itself the packets put aside by the firewall through the target NFQUEUE\n",
        "-c etc... : specifies the config parameters and rules of the YAML config file  \n",
        "--pidfile /var.... indicates where to save the PID file of suricata"
      ],
      "metadata": {
        "id": "GHISYRF5LCJp"
      }
    },
    {
      "cell_type": "code",
      "source": [
        "# in  /etc/systemd/system/suricata.service.d/suricata.conf\n",
        "[Service]\n",
        "ExecStart =\n",
        "ExecStart=/usr/bin/suricata -D -q 0 -c /etc/suricata/suricata.yaml --pidfile /var/run/suricata.pid"
      ],
      "metadata": {
        "id": "Q9rLGs0KKdNV"
      },
      "execution_count": null,
      "outputs": []
    },
    {
      "cell_type": "markdown",
      "source": [
        "You need to run `systemctl daemon-reload` after modifying service unit files to inform systemd to reload its configuration and recognize any changes made. This ensures that the latest configurations are applied, preventing inconsistencies and ensuring that services operate with the updated settings."
      ],
      "metadata": {
        "id": "aRy3VYGHLj43"
      }
    },
    {
      "cell_type": "code",
      "source": [
        "# do not forget to reload\n",
        "systemctl daemon-reload"
      ],
      "metadata": {
        "id": "VX-GskQSLWzj"
      },
      "execution_count": null,
      "outputs": []
    },
    {
      "cell_type": "code",
      "source": [
        "# edit the /etc/init.d/ma-config.sh file to specify the trafic to send to suricata\n",
        "\n",
        "iptables -A FORWARD -j NFQUEUE"
      ],
      "metadata": {
        "id": "OkN0WljqLsrw"
      },
      "execution_count": null,
      "outputs": []
    },
    {
      "cell_type": "code",
      "source": [
        "# creating a file to store the rules for suricata\n",
        "toucj /etc/suricata/rules/myrules.rules\n",
        "\n",
        "# indicates to suricata the rules file to load\n",
        "# in /etc/suricata/suricata.yaml\n",
        "[ . . . ]\n",
        "\n",
        "rule-files:\n",
        "  - myrules.rules\n",
        "\n",
        "[ . . . ]"
      ],
      "metadata": {
        "id": "TUQfrxMqL9sy"
      },
      "execution_count": null,
      "outputs": []
    },
    {
      "cell_type": "code",
      "source": [
        "# adding our first rule to our rules file\n",
        "# sends an alert if an ICMP packet go through our gateway\n",
        "alert icmp any any -> any any (\"msg: SURICATA my ICMP alert\"; sid:22400321)"
      ],
      "metadata": {
        "id": "oOIv4NHkMYaL"
      },
      "execution_count": null,
      "outputs": []
    },
    {
      "cell_type": "code",
      "source": [
        "# do not forget to restart service\n",
        "service suricata restart"
      ],
      "metadata": {
        "id": "hKt6nJvfMlu0"
      },
      "execution_count": null,
      "outputs": []
    },
    {
      "cell_type": "code",
      "source": [
        "# check the log messages file\n",
        "cat /var/log/suricata/fast.log"
      ],
      "metadata": {
        "id": "P0gtOSfkMqXF"
      },
      "execution_count": null,
      "outputs": []
    },
    {
      "cell_type": "code",
      "source": [
        "# adding a rule: alerting if one fails to enter valid password\n",
        "\n",
        "# initialize counter\n",
        "alert tcp-pkt any any <> any 23 (msg:\"Init Failing logins counter\";\\\n",
        "  content:\"Login incorrect\";flow:established,from_server;\\\n",
        "  flowint: username, notset;\\\n",
        "  flowint:username, =, 1; noalert; sid:1;)\n",
        "\n",
        "# increase counter\n",
        "alert tcp-pkt any any <> any 23 (msg:\"Inc Failed Logins\";\\\n",
        "  content:\"Login incorrect\";flow:established,from_server;\\\n",
        "  flowint: username, isset;\\\n",
        "  flowint:username, +, 1; noalert; sid:2;)\n",
        "\n",
        "# send an alert if counter is superior to 2\n",
        "alert tcp-pkt any any <> any 23 (msg:\"More than 3 Failed Logins!\";\\\n",
        "  content:\"Login incorrect\"; flow:established,from_server; \\\n",
        "  flowint: username, isset;\\\n",
        "  flowint:username, >, 2; sid:3;)"
      ],
      "metadata": {
        "id": "89FUQV9iMxtF"
      },
      "execution_count": null,
      "outputs": []
    },
    {
      "cell_type": "markdown",
      "source": [
        "To check if it worked, one must try to connect and fail three times and then check the logs.\n",
        "Do not forget to restart services"
      ],
      "metadata": {
        "id": "BWOAN9lhNFl4"
      }
    },
    {
      "cell_type": "code",
      "source": [
        "# connecting using telnet\n",
        "telnet 10.0.0.2 23 # telnet port"
      ],
      "metadata": {
        "id": "qAFIrkkDNEf3"
      },
      "execution_count": null,
      "outputs": []
    },
    {
      "cell_type": "markdown",
      "source": [
        "#### Advanced feature of suricata: using a lua script"
      ],
      "metadata": {
        "id": "I1oveR-FNjCl"
      }
    },
    {
      "cell_type": "code",
      "source": [
        "# enable the TLS certificate store in /etc/suricata/suricata.yaml\n",
        "- tls-store:\n",
        "  enabled: yes\n",
        "  certs-log-dir: certs"
      ],
      "metadata": {
        "id": "KaNm6caANn6C"
      },
      "execution_count": null,
      "outputs": []
    },
    {
      "cell_type": "code",
      "source": [
        "# add a rule\n",
        "alert tls any any -> any any (msg:\"SURICATA TLS Self Signed Certificate\";\n",
        "                 flow:established; luajit script.lua;\n",
        "                 tls.store; classtype:protocol-command-decode; sid:99666321; rev:1;)"
      ],
      "metadata": {
        "id": "4_M7We-gN2Jy"
      },
      "execution_count": 1,
      "outputs": []
    },
    {
      "cell_type": "code",
      "source": [
        "# add the lua script to /etc/suricata/rules"
      ],
      "metadata": {
        "id": "5R5teQK7N4AW"
      },
      "execution_count": null,
      "outputs": []
    },
    {
      "cell_type": "code",
      "source": [
        "# listening using gnu:\n",
        "gnutls-serv –priority SECURE256:-VERS-TLS-ALL:+VERS-TLS1.2 –x509certfile=/mnt/host/cert.pem –x509keyfile=/mnt/host/key.pem -p 5555"
      ],
      "metadata": {
        "id": "PjK5OEGFOb1S"
      },
      "execution_count": null,
      "outputs": []
    }
  ]
}